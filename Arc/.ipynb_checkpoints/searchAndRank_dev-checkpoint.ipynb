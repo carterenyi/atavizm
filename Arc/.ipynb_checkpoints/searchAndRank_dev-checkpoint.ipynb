{
 "cells": [
  {
   "cell_type": "code",
   "execution_count": null,
   "metadata": {},
   "outputs": [],
   "source": [
    "import midi2nmat.py as m2n\n",
    "import pandas as pds\n",
    "import numpy as np"
   ]
  },
  {
   "cell_type": "code",
   "execution_count": null,
   "metadata": {},
   "outputs": [],
   "source": [
    "path=\"/Users/wsdula/Documents/ATAVizM/Data/a-exsultate.mid\""
   ]
  },
  {
   "cell_type": "code",
   "execution_count": null,
   "metadata": {},
   "outputs": [],
   "source": [
    "test = m2n.midi2nmat(path)"
   ]
  },
  {
   "cell_type": "code",
   "execution_count": null,
   "metadata": {},
   "outputs": [],
   "source": [
    "def SAR_Contour(nmat, s_type=3, cmin=5):\n",
    "    cmax=50\n",
    "    degrees=2\n",
    "    pitches=list(nmat[['Pitch']])\n",
    "    contcom = _make_ContCM(pitches,degrees)\n",
    "    CL="
   ]
  },
  {
   "cell_type": "code",
   "execution_count": 6,
   "metadata": {},
   "outputs": [],
   "source": [
    "def _make_ContCM(arr, deg1, deg2 = None):\n",
    "    \"\"\"\n",
    "    Creates Continous Contour Matrix for searching\n",
    "    Adapted for asynchrony\n",
    "    \"\"\"\n",
    "    \n",
    "    if deg2 is None:\n",
    "        deg2 = deg1\n",
    "    \n",
    "    degrees = deg1 + deg2\n",
    "    ContCM = np.zeros((deg1,deg2)) #creates and initializes  contour matrix w/ zeroes\n",
    "    ContCM.fill(np.nan)            #fills matrix with Null values\n",
    "    \n",
    "    for n in range(0,len(arr)):\n",
    "        try:    \n",
    "            for j in range(0,deg1):\n",
    "                if arr[n] > arr[n-j]:\n",
    "                    ContCM[deg1-j, n] = 1\n",
    "                else:\n",
    "                    ContCM[deg1-j, i] = 0\n",
    "        except:\n",
    "            continue\n",
    "        \n",
    "        try:\n",
    "            for j in range(0,deg2):\n",
    "                if arr[n] > arr[n+j]:\n",
    "                    ContCM[deg1+j, n] = 1\n",
    "                else:\n",
    "                    ContCM[deg1+j, n] = 0\n",
    "        except:\n",
    "            continue\n",
    "    \n",
    "    return ContCM"
   ]
  },
  {
   "cell_type": "code",
   "execution_count": null,
   "metadata": {
    "collapsed": true
   },
   "outputs": [],
   "source": []
  }
 ],
 "metadata": {
  "kernelspec": {
   "display_name": "Python 3",
   "language": "python",
   "name": "python3"
  },
  "language_info": {
   "codemirror_mode": {
    "name": "ipython",
    "version": 3
   },
   "file_extension": ".py",
   "mimetype": "text/x-python",
   "name": "python",
   "nbconvert_exporter": "python",
   "pygments_lexer": "ipython3",
   "version": "3.6.7"
  }
 },
 "nbformat": 4,
 "nbformat_minor": 2
}
