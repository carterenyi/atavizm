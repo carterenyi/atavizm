{
 "cells": [
  {
   "cell_type": "code",
   "execution_count": 1,
   "metadata": {},
   "outputs": [],
   "source": [
    "import pandas as pd\n",
    "import mido\n",
    "from zipfile import ZipFile"
   ]
  },
  {
   "cell_type": "code",
   "execution_count": 2,
   "metadata": {},
   "outputs": [],
   "source": [
    "def midi2nmat(path):\n",
    "    \"\"\"Returns a Note Matrix from a given MIDI files\"\"\"\n",
    "    \n",
    "    assert (type(path) is str), \"Filepath must be a string: %r\" % path\n",
    "    mid = mido.MidiFile(path)\n",
    "    tpb = mid.ticks_per_beat\n",
    "\n",
    "    midiframe = pd.DataFrame(columns=[\"Type\", \"Voice\", \"Pitch\", \"Velocity\", \"Ticks\"])\n",
    "\n",
    "    for track in mid.tracks:\n",
    "        for msg in track:\n",
    "            if msg.type == \"note_on\":\n",
    "                df = pd.DataFrame({\"Type\":msg.type, \"Voice\":msg.channel, \"Pitch\":msg.note, \"Velocity\":msg.velocity, \"Ticks\":msg.time},\\\n",
    "                              index=[0])\n",
    "            else:\n",
    "                df = pd.DataFrame({\"Type\":msg.type, \"Ticks\":msg.time},\\\n",
    "                              index=[0])\n",
    "            midiframe = midiframe.append(df, ignore_index=True)\n",
    "\n",
    "    midiframe[\"Time\"] = pd.Series(midiframe[\"Ticks\"].cumsum() / tpb, index=midiframe.index)\n",
    "\n",
    "    note_on = midiframe.loc[(midiframe[\"Velocity\"] != 0) & (midiframe[\"Type\"] == \"note_on\")]\n",
    "    note_off = midiframe.loc[(midiframe[\"Velocity\"] == 0) & (midiframe[\"Type\"] == \"note_on\")]\n",
    "    newdex = range(0,len(note_off))\n",
    "\n",
    "    note_off = note_off.reset_index(drop=True)\n",
    "    note_on = note_on.reset_index(drop=True)\n",
    "\n",
    "    note_on[\"Duration\"] = pd.Series(note_off[\"Time\"] - note_on[\"Time\"], index = note_on.index)\n",
    "\n",
    "    return note_on[[\"Pitch\", \"Time\", \"Velocity\", \"Voice\", \"Duration\"]]"
   ]
  },
  {
   "cell_type": "code",
   "execution_count": 3,
   "metadata": {},
   "outputs": [],
   "source": [
    "def _nmatPloy2Mono(nmat):\n",
    "    \"\"\"Turns Polyphonic MIDI File into Monophonic MIDI file\"\"\"\n",
    "    #OBSOLETE AS OF \n",
    "    #add voice * onset of the last beat in voice 0 to onsets for v1 and v2"
   ]
  },
  {
   "cell_type": "code",
   "execution_count": 12,
   "metadata": {},
   "outputs": [],
   "source": [
    "def _unzipmxl(path):\n",
    "    with ZipFile(path) as zipObj:\n",
    "        listOfFileNames = zipObj.namelist()\n",
    "        zipObj.extractall(\"../Data\")\n",
    "        print(listOfFileNames)\n",
    "    return(\"../Data/\"+listOfFileNames[2])"
   ]
  },
  {
   "cell_type": "code",
   "execution_count": 13,
   "metadata": {},
   "outputs": [
    {
     "name": "stdout",
     "output_type": "stream",
     "text": [
      "['META-INF/', 'META-INF/container.xml', 'OMOLUABI XML.xml']\n"
     ]
    }
   ],
   "source": [
    "path1 = \"../Data/Fugue-BWV-847.mid\"\n",
    "path2 = \"../Data/a-exsultate.mid\"\n",
    "zipPath = \"../Data/OMOLUABI XML.mxl\"\n",
    "xmlPath = _unzipmxl(zipPath)\n",
    "nmat = midi2nmat(path2)"
   ]
  },
  {
   "cell_type": "code",
   "execution_count": 14,
   "metadata": {},
   "outputs": [
    {
     "data": {
      "text/plain": [
       "'../Data/OMOLUABI XML.xml'"
      ]
     },
     "execution_count": 14,
     "metadata": {},
     "output_type": "execute_result"
    }
   ],
   "source": [
    "xmlPath"
   ]
  },
  {
   "cell_type": "code",
   "execution_count": null,
   "metadata": {},
   "outputs": [],
   "source": []
  }
 ],
 "metadata": {
  "kernelspec": {
   "display_name": "Python 3",
   "language": "python",
   "name": "python3"
  },
  "language_info": {
   "codemirror_mode": {
    "name": "ipython",
    "version": 3
   },
   "file_extension": ".py",
   "mimetype": "text/x-python",
   "name": "python",
   "nbconvert_exporter": "python",
   "pygments_lexer": "ipython3",
   "version": "3.7.3"
  }
 },
 "nbformat": 4,
 "nbformat_minor": 2
}
