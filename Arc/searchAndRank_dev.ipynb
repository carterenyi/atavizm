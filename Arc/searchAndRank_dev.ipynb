{
 "cells": [
  {
   "cell_type": "code",
   "execution_count": 1,
   "metadata": {},
   "outputs": [],
   "source": [
    "import midi2nmat as m2n\n",
    "import pandas as pds\n",
    "import numpy as np"
   ]
  },
  {
   "cell_type": "code",
   "execution_count": 2,
   "metadata": {},
   "outputs": [],
   "source": [
    "path=\"/Users/wsdula/Documents/ATAVizM/Data/a-exsultate.mid\""
   ]
  },
  {
   "cell_type": "code",
   "execution_count": 3,
   "metadata": {},
   "outputs": [],
   "source": [
    "test = m2n.midi2nmat(path)"
   ]
  },
  {
   "cell_type": "code",
   "execution_count": 4,
   "metadata": {},
   "outputs": [],
   "source": [
    "def SAR_Contour(nmat, s_type=3, cmin=5):\n",
    "    cmax=50\n",
    "    degrees=2\n",
    "    pitches=list(nmat['Pitch'])\n",
    "    contcom = _make_ContCM(pitches,degrees)\n",
    "    CL=None #This will be a list of column sums of contcom\n",
    "    \n",
    "    \n",
    "    durs=list(nmat['Time'])\n",
    "    durs=durs[1:len(durs)-1]-durs[0:len(durs)-2]\n",
    "    durs.append(nmat['Duration'].last())\n",
    "    contcom=_make_ContCM(durs,degrees)\n",
    "    DCL=None #This will be a list of column sums of contcom\n",
    "    \n",
    "    "
   ]
  },
  {
   "cell_type": "code",
   "execution_count": 18,
   "metadata": {},
   "outputs": [],
   "source": [
    "def _make_ContCM(arr, deg1, deg2 = None):\n",
    "    \"\"\"\n",
    "    Creates Continous Contour Matrix for searching\n",
    "    Adapted for asynchrony\n",
    "    \"\"\"\n",
    "    \n",
    "    if deg2 is None:\n",
    "        deg2 = deg1\n",
    "    \n",
    "    degrees = deg1 + deg2\n",
    "    ContCM = np.zeros((degrees,len(arr))) #creates and initializes  contour matrix w/ zeroes\n",
    "    ContCM.fill(np.nan)            #fills matrix with Null values\n",
    "    print(arr)\n",
    "    for n in range(0,len(arr)):    \n",
    "            for i in [1,2]:\n",
    "                try:\n",
    "                    if arr[n] > arr[n-i] and n-i >= 0 :\n",
    "                        ContCM[deg1-i, n] = 1\n",
    "                    elif n-i >= 0:\n",
    "                        ContCM[deg1-i, n] = 0\n",
    "                except:\n",
    "                    continue\n",
    "\n",
    "            for i in [1,2]:\n",
    "                try:\n",
    "                    if arr[n] > arr[n+i]:\n",
    "                        ContCM[deg1+i-1, n] = 1\n",
    "                    else:\n",
    "                        ContCM[deg1+i-1, n] = 0\n",
    "                except:\n",
    "                    continue\n",
    "    \n",
    "    return ContCM"
   ]
  },
  {
   "cell_type": "code",
   "execution_count": 19,
   "metadata": {
    "scrolled": true
   },
   "outputs": [
    {
     "name": "stdout",
     "output_type": "stream",
     "text": [
      "[60, 60, 65, 64, 65, 67, 67, 60, 60, 65, 64, 65, 67, 67, 65, 67, 64, 67, 69, 65, 69, 67, 69, 70, 67, 64, 62, 64, 65, 67, 65, 60, 65, 65, 65, 62, 65, 64, 67, 65, 62, 60, 62, 64, 62, 60, 60, 62, 60, 60, 65, 64, 65, 67, 67, 69, 65, 64, 65, 67, 67, 67, 67, 67, 70, 67, 69, 70, 69, 67, 67, 69, 65, 64, 65, 67, 67, 69, 65, 67, 65, 64, 65, 64, 64, 65, 64, 64, 65, 67, 69, 69, 67, 69, 65, 62, 67, 67, 65, 64, 62, 60, 62, 60, 60, 62, 64, 65, 67, 67, 69, 65, 64, 65, 67, 60, 60, 65, 64, 65, 67, 67, 69, 70, 72, 70, 67, 69, 70, 69, 70, 69, 67, 69, 67, 67, 67, 70, 67, 69, 70, 69, 70, 69, 67, 69, 67, 67, 62, 62, 65, 64, 65, 67, 67, 65, 67, 64, 67, 69, 65, 69, 67, 69, 70, 67, 64, 62, 64, 65, 67, 65, 60, 65, 65, 65, 62, 65, 64, 67, 65, 62, 60, 62, 64, 62, 60, 60, 60, 65, 64, 65, 67, 67, 65, 67, 64, 67, 69, 65, 69, 67, 69, 70, 67, 64, 62, 64, 65, 67, 65, 60, 65, 65, 65, 62, 65, 64, 67, 65, 62, 60, 62, 64, 62, 60]\n",
      "[[nan nan  1.  1.  0.  1.  1.  0.  0.  1.  1.  0.  1.  1.  0.  0.  0.  0.\n",
      "   1.  0.  0.  1.  0.  1.  0.  0.  0.  0.  1.  1.  0.  0.  0.  1.  0.  0.\n",
      "   0.  1.  1.  1.  0.  0.  0.  1.  0.  0.  0.  1.  0.  0.  1.  1.  0.  1.\n",
      "   1.  1.  0.  0.  0.  1.  1.  0.  0.  0.  1.  0.  0.  1.  0.  0.  0.  1.\n",
      "   0.  0.  0.  1.  1.  1.  0.  0.  0.  0.  0.  0.  0.  1.  0.  0.  1.  1.\n",
      "   1.  1.  0.  0.  0.  0.  1.  1.  0.  0.  0.  0.  0.  0.  0.  1.  1.  1.\n",
      "   1.  1.  1.  0.  0.  0.  1.  0.  0.  1.  1.  0.  1.  1.  1.  1.  1.  0.\n",
      "   0.  0.  1.  0.  0.  0.  0.  0.  0.  0.  0.  1.  0.  0.  1.  0.  0.  0.\n",
      "   0.  0.  0.  0.  0.  0.  1.  1.  0.  1.  1.  0.  0.  0.  0.  1.  0.  0.\n",
      "   1.  0.  1.  0.  0.  0.  0.  1.  1.  0.  0.  0.  1.  0.  0.  0.  1.  1.\n",
      "   1.  0.  0.  0.  1.  0.  0.  0.  0.  1.  1.  0.  1.  1.  0.  0.  0.  0.\n",
      "   1.  0.  0.  1.  0.  1.  0.  0.  0.  0.  1.  1.  0.  0.  0.  1.  0.  0.\n",
      "   0.  1.  1.  1.  0.  0.  0.  1.  0.  0.]\n",
      " [nan  0.  1.  0.  1.  1.  0.  0.  0.  1.  0.  1.  1.  0.  0.  1.  0.  1.\n",
      "   1.  0.  1.  0.  1.  1.  0.  0.  0.  1.  1.  1.  0.  0.  1.  0.  0.  0.\n",
      "   1.  0.  1.  0.  0.  0.  1.  1.  0.  0.  0.  1.  0.  0.  1.  0.  1.  1.\n",
      "   0.  1.  0.  0.  1.  1.  0.  0.  0.  0.  1.  0.  1.  1.  0.  0.  0.  1.\n",
      "   0.  0.  1.  1.  0.  1.  0.  1.  0.  0.  1.  0.  0.  1.  0.  0.  1.  1.\n",
      "   1.  0.  0.  1.  0.  0.  1.  0.  0.  0.  0.  0.  1.  0.  0.  1.  1.  1.\n",
      "   1.  0.  1.  0.  0.  1.  1.  0.  0.  1.  0.  1.  1.  0.  1.  1.  1.  0.\n",
      "   0.  1.  1.  0.  1.  0.  0.  1.  0.  0.  0.  1.  0.  1.  1.  0.  1.  0.\n",
      "   0.  1.  0.  0.  0.  0.  1.  0.  1.  1.  0.  0.  1.  0.  1.  1.  0.  1.\n",
      "   0.  1.  1.  0.  0.  0.  1.  1.  1.  0.  0.  1.  0.  0.  0.  1.  0.  1.\n",
      "   0.  0.  0.  1.  1.  0.  0.  0.  0.  1.  0.  1.  1.  0.  0.  1.  0.  1.\n",
      "   1.  0.  1.  0.  1.  1.  0.  0.  0.  1.  1.  1.  0.  0.  1.  0.  0.  0.\n",
      "   1.  0.  1.  0.  0.  0.  1.  1.  0.  0.]\n",
      " [ 0.  0.  1.  0.  0.  0.  1.  0.  0.  1.  0.  0.  0.  1.  0.  1.  0.  0.\n",
      "   1.  0.  1.  0.  0.  1.  1.  1.  0.  0.  0.  1.  1.  0.  0.  0.  1.  0.\n",
      "   1.  0.  1.  1.  1.  0.  0.  1.  1.  0.  0.  1.  0.  0.  1.  0.  0.  0.\n",
      "   0.  1.  1.  0.  0.  0.  0.  0.  0.  0.  1.  0.  0.  1.  1.  0.  0.  1.\n",
      "   1.  0.  0.  0.  0.  1.  0.  1.  1.  0.  1.  0.  0.  1.  0.  0.  0.  0.\n",
      "   0.  1.  0.  1.  1.  0.  0.  1.  1.  1.  1.  0.  1.  0.  0.  0.  0.  0.\n",
      "   0.  0.  1.  1.  0.  0.  1.  0.  0.  1.  0.  0.  0.  0.  0.  0.  1.  1.\n",
      "   0.  0.  1.  0.  1.  1.  0.  1.  0.  0.  0.  1.  0.  0.  1.  0.  1.  1.\n",
      "   0.  1.  0.  1.  0.  0.  1.  0.  0.  0.  1.  0.  1.  0.  0.  1.  0.  1.\n",
      "   0.  0.  1.  1.  1.  0.  0.  0.  1.  1.  0.  0.  0.  1.  0.  1.  0.  1.\n",
      "   1.  1.  0.  0.  1.  1.  0.  0.  0.  1.  0.  0.  0.  1.  0.  1.  0.  0.\n",
      "   1.  0.  1.  0.  0.  1.  1.  1.  0.  0.  0.  1.  1.  0.  0.  0.  1.  0.\n",
      "   1.  0.  1.  1.  1.  0.  0.  1.  1. nan]\n",
      " [ 0.  0.  0.  0.  0.  1.  1.  0.  0.  0.  0.  0.  1.  0.  1.  0.  0.  1.\n",
      "   0.  0.  0.  0.  1.  1.  1.  0.  0.  0.  0.  1.  0.  0.  0.  1.  0.  0.\n",
      "   0.  0.  1.  1.  0.  0.  0.  1.  1.  0.  0.  1.  0.  0.  0.  0.  0.  0.\n",
      "   1.  1.  0.  0.  0.  0.  0.  0.  0.  0.  1.  0.  0.  1.  1.  0.  1.  1.\n",
      "   0.  0.  0.  0.  1.  1.  0.  1.  0.  0.  1.  0.  0.  1.  0.  0.  0.  0.\n",
      "   1.  0.  1.  1.  0.  0.  1.  1.  1.  1.  0.  0.  1.  0.  0.  0.  0.  0.\n",
      "   0.  1.  1.  0.  0.  1.  1.  0.  0.  0.  0.  0.  0.  0.  0.  0.  1.  1.\n",
      "   0.  0.  0.  0.  1.  0.  0.  1.  0.  0.  0.  1.  0.  0.  0.  0.  1.  0.\n",
      "   0.  1.  1.  1.  0.  0.  0.  0.  0.  1.  0.  1.  0.  0.  1.  0.  0.  0.\n",
      "   0.  1.  1.  1.  0.  0.  0.  0.  1.  0.  0.  0.  1.  0.  0.  0.  0.  1.\n",
      "   1.  0.  0.  0.  1.  1.  0.  0.  0.  0.  0.  0.  1.  0.  1.  0.  0.  1.\n",
      "   0.  0.  0.  0.  1.  1.  1.  0.  0.  0.  0.  1.  0.  0.  0.  1.  0.  0.\n",
      "   0.  0.  1.  1.  0.  0.  0.  1. nan nan]]\n"
     ]
    }
   ],
   "source": [
    "SAR_Contour(test)"
   ]
  },
  {
   "cell_type": "code",
   "execution_count": null,
   "metadata": {},
   "outputs": [],
   "source": []
  },
  {
   "cell_type": "code",
   "execution_count": null,
   "metadata": {},
   "outputs": [],
   "source": []
  }
 ],
 "metadata": {
  "kernelspec": {
   "display_name": "Python 3",
   "language": "python",
   "name": "python3"
  },
  "language_info": {
   "codemirror_mode": {
    "name": "ipython",
    "version": 3
   },
   "file_extension": ".py",
   "mimetype": "text/x-python",
   "name": "python",
   "nbconvert_exporter": "python",
   "pygments_lexer": "ipython3",
   "version": "3.6.7"
  }
 },
 "nbformat": 4,
 "nbformat_minor": 2
}
