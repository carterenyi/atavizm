{
 "cells": [
  {
   "cell_type": "code",
   "execution_count": 1,
   "metadata": {},
   "outputs": [],
   "source": [
    "#Take in nmat, type (int: 1-3), cmin (default 5), in"
   ]
  },
  {
   "cell_type": "code",
   "execution_count": 1,
   "metadata": {},
   "outputs": [
    {
     "ename": "ModuleNotFoundError",
     "evalue": "No module named 'midi2nmat.py'; 'midi2nmat' is not a package",
     "output_type": "error",
     "traceback": [
      "\u001b[0;31m---------------------------------------------------------------------------\u001b[0m",
      "\u001b[0;31mModuleNotFoundError\u001b[0m                       Traceback (most recent call last)",
      "\u001b[0;32m<ipython-input-1-a2e6d6cda701>\u001b[0m in \u001b[0;36m<module>\u001b[0;34m()\u001b[0m\n\u001b[0;32m----> 1\u001b[0;31m \u001b[0;32mimport\u001b[0m \u001b[0mmidi2nmat\u001b[0m\u001b[0;34m.\u001b[0m\u001b[0mpy\u001b[0m\u001b[0;34m\u001b[0m\u001b[0m\n\u001b[0m\u001b[1;32m      2\u001b[0m \u001b[0mnmat\u001b[0m \u001b[0;34m=\u001b[0m \u001b[0mmidi2nmat\u001b[0m\u001b[0;34m(\u001b[0m\u001b[0mpath\u001b[0m\u001b[0;34m)\u001b[0m\u001b[0;34m\u001b[0m\u001b[0m\n",
      "\u001b[0;31mModuleNotFoundError\u001b[0m: No module named 'midi2nmat.py'; 'midi2nmat' is not a package"
     ]
    }
   ],
   "source": [
    "import midi2nmat.py\n",
    "nmat = midi2nmat(path)"
   ]
  },
  {
   "cell_type": "code",
   "execution_count": 3,
   "metadata": {},
   "outputs": [],
   "source": [
    "import numpy as np"
   ]
  },
  {
   "cell_type": "code",
   "execution_count": 6,
   "metadata": {},
   "outputs": [],
   "source": [
    "def _make_ContCM(arr, deg1, deg2 = None):\n",
    "    \"\"\"\n",
    "    Creates Continous Contour Matrix for searching\n",
    "    Adapted for asynchrony\n",
    "    \"\"\"\n",
    "    \n",
    "    if deg2 is None:\n",
    "        deg2 = deg1\n",
    "    \n",
    "    degrees = deg1 + deg2\n",
    "    ContCM = np.zeros((deg1,deg2)) #creates and initializes  contour matrix w/ zeroes\n",
    "    ContCM.fill(np.nan)            #fills matrix with Null values\n",
    "    \n",
    "    for n in range(0,len(arr)):\n",
    "        try:    \n",
    "            for j in range(0,deg1):\n",
    "                if arr[n] > arr[n-j]:\n",
    "                    ContCM[deg1-j, n] = 1\n",
    "                else:\n",
    "                    ContCM[deg1-j, i] = 0\n",
    "        except:\n",
    "            continue\n",
    "        \n",
    "        try:\n",
    "            for j in range(0,deg2):\n",
    "                if arr[n] > arr[n+j]:\n",
    "                    ContCM[deg1+j, n] = 1\n",
    "                else:\n",
    "                    ContCM[deg1+j, n] = 0\n",
    "        except:\n",
    "            continue\n",
    "    \n",
    "    return ContCM\n",
    "    "
   ]
  },
  {
   "cell_type": "code",
   "execution_count": null,
   "metadata": {},
   "outputs": [],
   "source": []
  }
 ],
 "metadata": {
  "kernelspec": {
   "display_name": "Python 3",
   "language": "python",
   "name": "python3"
  },
  "language_info": {
   "codemirror_mode": {
    "name": "ipython",
    "version": 3
   },
   "file_extension": ".py",
   "mimetype": "text/x-python",
   "name": "python",
   "nbconvert_exporter": "python",
   "pygments_lexer": "ipython3",
   "version": "3.6.4"
  }
 },
 "nbformat": 4,
 "nbformat_minor": 2
}
